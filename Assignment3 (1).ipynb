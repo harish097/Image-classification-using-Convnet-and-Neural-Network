{
 "cells": [
  {
   "cell_type": "markdown",
   "metadata": {},
   "source": [
    "Before you turn this problem in, make sure everything runs as expected. First, **restart the kernel** (in the menubar, select Kernel$\\rightarrow$Restart) and then **run all cells** (in the menubar, select Cell$\\rightarrow$Run All).\n",
    "\n",
    "Make sure you fill in any place that says `YOUR CODE HERE` or \"YOUR ANSWER HERE\", as well as your name."
   ]
  },
  {
   "cell_type": "code",
   "execution_count": null,
   "metadata": {},
   "outputs": [],
   "source": [
    "NAME = \"\""
   ]
  },
  {
   "cell_type": "markdown",
   "metadata": {},
   "source": [
    "---"
   ]
  },
  {
   "cell_type": "markdown",
   "metadata": {
    "deletable": false,
    "editable": false,
    "nbgrader": {
     "checksum": "e37d66080a35ccd885ab05f83da56fb3",
     "grade": false,
     "grade_id": "cell-3c8e604f2bd13b29",
     "locked": true,
     "schema_version": 1,
     "solution": false
    }
   },
   "source": [
    "# Assignment Description\n",
    "The purpose of this assignment is to gain some experience with multilayer and convolutional networks.\n",
    "This assignment will be fairly open-ended, but I will give some general guidelines."
   ]
  },
  {
   "cell_type": "markdown",
   "metadata": {
    "deletable": false,
    "editable": false,
    "nbgrader": {
     "checksum": "cec65fba906620ef1c980ccb6ff4d93d",
     "grade": false,
     "grade_id": "cell-8d4b87ee874eb380",
     "locked": true,
     "schema_version": 1,
     "solution": false
    }
   },
   "source": [
    "# Part 1 - Fully Connected Feed Forward Networks\n",
    "Train a feedforward networks in python to perform a task of your choice. If you don't have anything in mind, you can do classification of some common datasets (MNIST, Fashion MNIST). You may find it interesting to use other datasets (faces, etc).\n",
    "\n",
    "Please don't do anything simpler than this, unless it's interesting (a problem in your research, from your work, using a unique dataset).\n",
    "\n",
    "You may use libraries for this assignment (tensorflow, keras, sklearn, etc). Please don't use other neural network libraries (pytorch, etc).\n",
    "\n",
    "You may re-use code from previous assignment. You may follow some tutorial, but please some unique contribution (use a different dataset, for example)."
   ]
  },
  {
   "cell_type": "markdown",
   "metadata": {
    "deletable": false,
    "editable": false,
    "nbgrader": {
     "checksum": "7e499733f3781945a5d36923ffeaf8a9",
     "grade": false,
     "grade_id": "cell-d1d9a2b9fa38a377",
     "locked": true,
     "schema_version": 1,
     "solution": false
    }
   },
   "source": [
    "# 1A - Preprocessing\n",
    "Code that does any imports, data loading, preprocessing, normalization goes in the cell below. Please use only a single cell.\n",
    "\n",
    "You may do this however you wish, but should follow the practices we learned in class (shuffling data, normalizing, etc).\n",
    "\n",
    "If you want to experiment with some feature transformations, I would encourage it (just be careful of generating too many features)."
   ]
  },
  {
   "cell_type": "code",
   "execution_count": null,
   "metadata": {
    "deletable": false,
    "nbgrader": {
     "checksum": "885a76e82190cb88b89d80a7d2880264",
     "grade": true,
     "grade_id": "1a",
     "locked": false,
     "points": 8,
     "schema_version": 1,
     "solution": true
    }
   },
   "outputs": [],
   "source": [
    "# YOUR CODE HERE\n",
    "raise NotImplementedError()"
   ]
  },
  {
   "cell_type": "markdown",
   "metadata": {
    "deletable": false,
    "editable": false,
    "nbgrader": {
     "checksum": "118d140bee859fbcecc470d176820157",
     "grade": false,
     "grade_id": "cell-8be2b07e3ef21eeb",
     "locked": true,
     "schema_version": 1,
     "solution": false
    }
   },
   "source": [
    "# 1B - Model definition\n",
    "Create a fully connected feedforward network model. You can use whatever you want in terms of activation functions/architecture/etc.\n",
    "\n",
    "However please make sure your architecture is compatible with the task you choose."
   ]
  },
  {
   "cell_type": "code",
   "execution_count": null,
   "metadata": {
    "deletable": false,
    "nbgrader": {
     "checksum": "8ac54db7042f6d89e62729e78534b54a",
     "grade": true,
     "grade_id": "1b",
     "locked": false,
     "points": 8,
     "schema_version": 1,
     "solution": true
    }
   },
   "outputs": [],
   "source": [
    "# YOUR CODE HERE\n",
    "raise NotImplementedError()"
   ]
  },
  {
   "cell_type": "markdown",
   "metadata": {
    "deletable": false,
    "editable": false,
    "nbgrader": {
     "checksum": "55eb0ede53799995cf4035dacce2377c",
     "grade": false,
     "grade_id": "cell-b69989d6191cfae0",
     "locked": true,
     "schema_version": 1,
     "solution": false
    }
   },
   "source": [
    "# 1C - Training\n",
    "Train a single fully connected network for this task. If you do some kind of hyperparameter search, just include the best parameters in your submission."
   ]
  },
  {
   "cell_type": "code",
   "execution_count": null,
   "metadata": {
    "deletable": false,
    "nbgrader": {
     "checksum": "fb5d9e04255f5cfdfe2860f473dfc465",
     "grade": true,
     "grade_id": "1c",
     "locked": false,
     "points": 8,
     "schema_version": 1,
     "solution": true
    }
   },
   "outputs": [],
   "source": [
    "# YOUR CODE HERE\n",
    "raise NotImplementedError()"
   ]
  },
  {
   "cell_type": "markdown",
   "metadata": {
    "deletable": false,
    "editable": false,
    "nbgrader": {
     "checksum": "93628442b441be68b730b1fa9c16bddb",
     "grade": false,
     "grade_id": "cell-c268beb4e04bba08",
     "locked": true,
     "schema_version": 1,
     "solution": false
    }
   },
   "source": [
    "# 1D - Quantitative Evaluation\n",
    "Do some quantitative evaluation of your trained model. At minimum you should report the accuracy on some withheld data. Plots would be preferable."
   ]
  },
  {
   "cell_type": "code",
   "execution_count": null,
   "metadata": {
    "deletable": false,
    "nbgrader": {
     "checksum": "4917b1d7f5cafa5999c0bdfd7b32255b",
     "grade": true,
     "grade_id": "1d",
     "locked": false,
     "points": 8,
     "schema_version": 1,
     "solution": true
    }
   },
   "outputs": [],
   "source": [
    "# YOUR CODE HERE\n",
    "raise NotImplementedError()"
   ]
  },
  {
   "cell_type": "markdown",
   "metadata": {
    "deletable": false,
    "editable": false,
    "nbgrader": {
     "checksum": "b2e9926f2fb9b0377645e076980befb5",
     "grade": false,
     "grade_id": "cell-ff5f24f6fa65f3e2",
     "locked": true,
     "schema_version": 1,
     "solution": false
    }
   },
   "source": [
    "# 1E - Qualitative Evaluation\n",
    "Do some qualitative evaluation of your trained model. \n",
    "\n",
    "An example would be visualizing a small sample (10 or so) of images that were correctly classified from your validation data, and another sample of incorrectly classified samples."
   ]
  },
  {
   "cell_type": "code",
   "execution_count": null,
   "metadata": {
    "deletable": false,
    "nbgrader": {
     "checksum": "27e15001632de78267236798714a6860",
     "grade": true,
     "grade_id": "1e",
     "locked": false,
     "points": 8,
     "schema_version": 1,
     "solution": true
    }
   },
   "outputs": [],
   "source": [
    "# YOUR CODE HERE\n",
    "raise NotImplementedError()"
   ]
  },
  {
   "cell_type": "markdown",
   "metadata": {
    "deletable": false,
    "editable": false,
    "nbgrader": {
     "checksum": "8abd0707a23ba04b8532f033a6c83e0c",
     "grade": false,
     "grade_id": "cell-d64718274e1c74e8",
     "locked": true,
     "schema_version": 1,
     "solution": false
    }
   },
   "source": [
    "# 1F - Report\n",
    "Write a few sentence summary of your work on part 1. It should answer the following questions:\n",
    "\n",
    "1. What task were you trying to solve?\n",
    "2. How did you implement it?\n",
    "3. How did it perform? Did it do well? Overfit? Underfit?\n",
    "4. Cite any resources/tutorials you used (informally, just a URL is ok). Citing papers isn't necessary.\n",
    "5. This is meant to be a very simple summary (like the 'abstract' of a paper). No diagrams/etc necessary."
   ]
  },
  {
   "cell_type": "markdown",
   "metadata": {
    "deletable": false,
    "nbgrader": {
     "checksum": "5056a1ecc0f5eb241aa265e2bb4323af",
     "grade": true,
     "grade_id": "1f",
     "locked": false,
     "points": 10,
     "schema_version": 1,
     "solution": true
    }
   },
   "source": [
    "YOUR ANSWER HERE"
   ]
  },
  {
   "cell_type": "markdown",
   "metadata": {
    "deletable": false,
    "editable": false,
    "nbgrader": {
     "checksum": "10e364dd0cb41f5ea572c494acf33e20",
     "grade": false,
     "grade_id": "cell-326d261ff85c6db7",
     "locked": true,
     "schema_version": 1,
     "solution": false
    }
   },
   "source": [
    "---------------------------------------------"
   ]
  },
  {
   "cell_type": "markdown",
   "metadata": {
    "deletable": false,
    "editable": false,
    "nbgrader": {
     "checksum": "c509df027738d93e33e449af8b1dea3d",
     "grade": false,
     "grade_id": "cell-979f0bd35b7c857d",
     "locked": true,
     "schema_version": 1,
     "solution": false
    }
   },
   "source": [
    "# Part 2 - Advanced architectures (CNN/RNN)\n",
    "In part 2 train an advanced architecture like a CNN to perform the same task from part 1. Please assume part 1 and 2 are run independently. So you may need to repeat code twice.\n",
    "\n",
    "You do not need to do anything super fancy (don't try to train a 50 layer residual network, etc)."
   ]
  },
  {
   "cell_type": "markdown",
   "metadata": {
    "deletable": false,
    "editable": false,
    "nbgrader": {
     "checksum": "510c87ee6bb8952f2e123297e71f33e5",
     "grade": false,
     "grade_id": "cell-6386fe54ffcfe0f0",
     "locked": true,
     "schema_version": 1,
     "solution": false
    }
   },
   "source": [
    "# 2A - Preprocessing\n",
    "Code that does any imports, data loading, preprocessing, normalization goes in the cell below."
   ]
  },
  {
   "cell_type": "code",
   "execution_count": null,
   "metadata": {
    "deletable": false,
    "nbgrader": {
     "checksum": "c6401fdc9ad5f687e1d87b27b44b0de6",
     "grade": true,
     "grade_id": "2a",
     "locked": false,
     "points": 8,
     "schema_version": 1,
     "solution": true
    }
   },
   "outputs": [],
   "source": [
    "# YOUR CODE HERE\n",
    "raise NotImplementedError()"
   ]
  },
  {
   "cell_type": "markdown",
   "metadata": {
    "deletable": false,
    "editable": false,
    "nbgrader": {
     "checksum": "bec3b5493e239c1028ebe30ba7e3918b",
     "grade": false,
     "grade_id": "cell-f934f1e502453cae",
     "locked": true,
     "schema_version": 1,
     "solution": false
    }
   },
   "source": [
    "# 2B - Model definition\n",
    "Create a fully connected feedforward network model. You can use whatever you want in terms of activation functions/architecture/etc.\n",
    "\n",
    "However please make sure your architecture is compatible with the task you choose."
   ]
  },
  {
   "cell_type": "code",
   "execution_count": null,
   "metadata": {
    "deletable": false,
    "nbgrader": {
     "checksum": "8661e068cfe98df6c4c97f6f297321e2",
     "grade": true,
     "grade_id": "2b",
     "locked": false,
     "points": 8,
     "schema_version": 1,
     "solution": true
    }
   },
   "outputs": [],
   "source": [
    "# YOUR CODE HERE\n",
    "raise NotImplementedError()"
   ]
  },
  {
   "cell_type": "markdown",
   "metadata": {
    "deletable": false,
    "editable": false,
    "nbgrader": {
     "checksum": "b9d1083587628091653eb3563f18b7be",
     "grade": false,
     "grade_id": "cell-7d0e60aef3748e6e",
     "locked": true,
     "schema_version": 1,
     "solution": false
    }
   },
   "source": [
    "# 2C - Training\n",
    "Train a more advanced (CNN/RNN) for this task. If you do some kind of hyperparameter search, just include the best parameters in your submission."
   ]
  },
  {
   "cell_type": "code",
   "execution_count": null,
   "metadata": {
    "deletable": false,
    "nbgrader": {
     "checksum": "21601801bac726b08e5c694d6e1688f6",
     "grade": true,
     "grade_id": "2c",
     "locked": false,
     "points": 8,
     "schema_version": 1,
     "solution": true
    }
   },
   "outputs": [],
   "source": [
    "# YOUR CODE HERE\n",
    "raise NotImplementedError()"
   ]
  },
  {
   "cell_type": "markdown",
   "metadata": {
    "deletable": false,
    "editable": false,
    "nbgrader": {
     "checksum": "d1b6d1a09bcd94182216a4a4d2c77c77",
     "grade": false,
     "grade_id": "cell-307e87f69de91563",
     "locked": true,
     "schema_version": 1,
     "solution": false
    }
   },
   "source": [
    "# 2D - Quantitative Evaluation\n",
    "Re-do the quantiative evaluation from part 1 using this more advanced model."
   ]
  },
  {
   "cell_type": "code",
   "execution_count": null,
   "metadata": {
    "deletable": false,
    "nbgrader": {
     "checksum": "6640f3ceec388351da91e1594dff1879",
     "grade": true,
     "grade_id": "2d",
     "locked": false,
     "points": 8,
     "schema_version": 1,
     "solution": true
    }
   },
   "outputs": [],
   "source": [
    "# YOUR CODE HERE\n",
    "raise NotImplementedError()"
   ]
  },
  {
   "cell_type": "markdown",
   "metadata": {
    "deletable": false,
    "editable": false,
    "nbgrader": {
     "checksum": "795d449080ed24487023f22148182b50",
     "grade": false,
     "grade_id": "cell-1676684ad850f591",
     "locked": true,
     "schema_version": 1,
     "solution": false
    }
   },
   "source": [
    "# 2E - Qualitative Evaluation\n",
    "Re-do the qualitative evaluation from part 1 using this more advanced model."
   ]
  },
  {
   "cell_type": "code",
   "execution_count": null,
   "metadata": {
    "deletable": false,
    "nbgrader": {
     "checksum": "e8432626b0c215da88dd9cefc782c1c7",
     "grade": true,
     "grade_id": "2e",
     "locked": false,
     "points": 8,
     "schema_version": 1,
     "solution": true
    }
   },
   "outputs": [],
   "source": [
    "# YOUR CODE HERE\n",
    "raise NotImplementedError()"
   ]
  },
  {
   "cell_type": "markdown",
   "metadata": {
    "deletable": false,
    "editable": false,
    "nbgrader": {
     "checksum": "d382825e8158096ba3dc1fd8c40f89d1",
     "grade": false,
     "grade_id": "cell-0570698e87cb2784",
     "locked": true,
     "schema_version": 1,
     "solution": false
    }
   },
   "source": [
    "# 2F - Report\n",
    "Write a few sentence summary of your work on part 2. Focus on the differences from part 1.\n",
    "\n",
    "The summary should at least answer the following questions:\n",
    "1. What task were you trying to solve?\n",
    "2. How did you implement it.\n",
    "3. How did it perform? Can you interpret the performance metrics in plain english? Did it do well? Overfit? Underfit?\n",
    "4. Cite any resources/tutorials you used (informally, just a URL is ok). Citing papers isn't necessary.\n",
    "5. This is meant to be a very simple summary (like the 'abstract' of a paper). No diagrams/etc necessary.\n",
    "\n",
    "You can do some basic formatting with markdown if you'd like.\n"
   ]
  },
  {
   "cell_type": "markdown",
   "metadata": {
    "deletable": false,
    "nbgrader": {
     "checksum": "a71dfaab31ad0efc687fb04f9158af94",
     "grade": true,
     "grade_id": "2f",
     "locked": false,
     "points": 10,
     "schema_version": 1,
     "solution": true
    }
   },
   "source": [
    "YOUR ANSWER HERE"
   ]
  }
 ],
 "metadata": {
  "kernelspec": {
   "display_name": "Python (tf)",
   "language": "python",
   "name": "tensorflow"
  },
  "language_info": {
   "codemirror_mode": {
    "name": "ipython",
    "version": 3
   },
   "file_extension": ".py",
   "mimetype": "text/x-python",
   "name": "python",
   "nbconvert_exporter": "python",
   "pygments_lexer": "ipython3",
   "version": "3.5.2"
  }
 },
 "nbformat": 4,
 "nbformat_minor": 2
}
